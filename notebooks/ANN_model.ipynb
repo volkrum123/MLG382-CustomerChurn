{
 "cells": [
  {
   "cell_type": "code",
   "execution_count": 14,
   "id": "d45ede0c",
   "metadata": {},
   "outputs": [],
   "source": [
    "import pandas as pd\n",
    "import matplotlib.pyplot as plt\n",
    "import numpy as np\n",
    "import seaborn as sns\n",
    "import tensorflow as tf\n",
    "from tensorflow.keras import layers, models\n",
    "from joblib import dump\n",
    "from sklearn.utils.class_weight import compute_class_weight\n",
    "from sklearn.model_selection import train_test_split\n",
    "from sklearn.preprocessing import StandardScaler\n",
    "from sklearn.metrics import confusion_matrix, classification_report\n"
   ]
  },
  {
   "cell_type": "markdown",
   "id": "b7a2003f",
   "metadata": {},
   "source": [
    "### **Data Upload:**"
   ]
  },
  {
   "cell_type": "code",
   "execution_count": 15,
   "id": "f3fe835b",
   "metadata": {},
   "outputs": [],
   "source": [
    "df = pd.read_csv('../data/Cleaned_Churn_modelling.csv')"
   ]
  },
  {
   "cell_type": "code",
   "execution_count": 16,
   "id": "aaae8e5d",
   "metadata": {},
   "outputs": [
    {
     "data": {
      "text/html": [
       "<div>\n",
       "<style scoped>\n",
       "    .dataframe tbody tr th:only-of-type {\n",
       "        vertical-align: middle;\n",
       "    }\n",
       "\n",
       "    .dataframe tbody tr th {\n",
       "        vertical-align: top;\n",
       "    }\n",
       "\n",
       "    .dataframe thead th {\n",
       "        text-align: right;\n",
       "    }\n",
       "</style>\n",
       "<table border=\"1\" class=\"dataframe\">\n",
       "  <thead>\n",
       "    <tr style=\"text-align: right;\">\n",
       "      <th></th>\n",
       "      <th>CreditScore</th>\n",
       "      <th>Gender</th>\n",
       "      <th>Age</th>\n",
       "      <th>Tenure</th>\n",
       "      <th>Balance</th>\n",
       "      <th>NumOfProducts</th>\n",
       "      <th>HasCrCard</th>\n",
       "      <th>IsActiveMember</th>\n",
       "      <th>EstimatedSalary</th>\n",
       "      <th>Exited</th>\n",
       "      <th>Geography_France</th>\n",
       "      <th>Geography_Germany</th>\n",
       "      <th>Geography_Spain</th>\n",
       "    </tr>\n",
       "  </thead>\n",
       "  <tbody>\n",
       "    <tr>\n",
       "      <th>0</th>\n",
       "      <td>619</td>\n",
       "      <td>0</td>\n",
       "      <td>42.0</td>\n",
       "      <td>2</td>\n",
       "      <td>0.00</td>\n",
       "      <td>1</td>\n",
       "      <td>1.0</td>\n",
       "      <td>1.0</td>\n",
       "      <td>101348.88</td>\n",
       "      <td>1</td>\n",
       "      <td>1</td>\n",
       "      <td>0</td>\n",
       "      <td>0</td>\n",
       "    </tr>\n",
       "    <tr>\n",
       "      <th>1</th>\n",
       "      <td>608</td>\n",
       "      <td>0</td>\n",
       "      <td>41.0</td>\n",
       "      <td>1</td>\n",
       "      <td>83807.86</td>\n",
       "      <td>1</td>\n",
       "      <td>0.0</td>\n",
       "      <td>1.0</td>\n",
       "      <td>112542.58</td>\n",
       "      <td>0</td>\n",
       "      <td>0</td>\n",
       "      <td>0</td>\n",
       "      <td>1</td>\n",
       "    </tr>\n",
       "    <tr>\n",
       "      <th>2</th>\n",
       "      <td>502</td>\n",
       "      <td>0</td>\n",
       "      <td>42.0</td>\n",
       "      <td>8</td>\n",
       "      <td>159660.80</td>\n",
       "      <td>3</td>\n",
       "      <td>1.0</td>\n",
       "      <td>0.0</td>\n",
       "      <td>113931.57</td>\n",
       "      <td>1</td>\n",
       "      <td>1</td>\n",
       "      <td>0</td>\n",
       "      <td>0</td>\n",
       "    </tr>\n",
       "    <tr>\n",
       "      <th>3</th>\n",
       "      <td>699</td>\n",
       "      <td>0</td>\n",
       "      <td>39.0</td>\n",
       "      <td>1</td>\n",
       "      <td>0.00</td>\n",
       "      <td>2</td>\n",
       "      <td>0.0</td>\n",
       "      <td>0.0</td>\n",
       "      <td>93826.63</td>\n",
       "      <td>0</td>\n",
       "      <td>1</td>\n",
       "      <td>0</td>\n",
       "      <td>0</td>\n",
       "    </tr>\n",
       "    <tr>\n",
       "      <th>4</th>\n",
       "      <td>645</td>\n",
       "      <td>1</td>\n",
       "      <td>44.0</td>\n",
       "      <td>8</td>\n",
       "      <td>113755.78</td>\n",
       "      <td>2</td>\n",
       "      <td>1.0</td>\n",
       "      <td>0.0</td>\n",
       "      <td>149756.71</td>\n",
       "      <td>1</td>\n",
       "      <td>0</td>\n",
       "      <td>0</td>\n",
       "      <td>1</td>\n",
       "    </tr>\n",
       "  </tbody>\n",
       "</table>\n",
       "</div>"
      ],
      "text/plain": [
       "   CreditScore  Gender   Age  Tenure    Balance  NumOfProducts  HasCrCard  \\\n",
       "0          619       0  42.0       2       0.00              1        1.0   \n",
       "1          608       0  41.0       1   83807.86              1        0.0   \n",
       "2          502       0  42.0       8  159660.80              3        1.0   \n",
       "3          699       0  39.0       1       0.00              2        0.0   \n",
       "4          645       1  44.0       8  113755.78              2        1.0   \n",
       "\n",
       "   IsActiveMember  EstimatedSalary  Exited  Geography_France  \\\n",
       "0             1.0        101348.88       1                 1   \n",
       "1             1.0        112542.58       0                 0   \n",
       "2             0.0        113931.57       1                 1   \n",
       "3             0.0         93826.63       0                 1   \n",
       "4             0.0        149756.71       1                 0   \n",
       "\n",
       "   Geography_Germany  Geography_Spain  \n",
       "0                  0                0  \n",
       "1                  0                1  \n",
       "2                  0                0  \n",
       "3                  0                0  \n",
       "4                  0                1  "
      ]
     },
     "execution_count": 16,
     "metadata": {},
     "output_type": "execute_result"
    }
   ],
   "source": [
    "df.head()"
   ]
  },
  {
   "cell_type": "markdown",
   "id": "e3e5e748",
   "metadata": {},
   "source": [
    "### **Preprocessing:**"
   ]
  },
  {
   "cell_type": "code",
   "execution_count": 17,
   "id": "6c5d4f20",
   "metadata": {},
   "outputs": [],
   "source": [
    "# Assigning the independent variables to the X and the dependent variables to y.\n",
    "x= df.drop('Exited',axis=1) # Drops column \"Exited\"and stores all the other columms in a table\n",
    "y= df['Exited'] # Stores the values of the \"Exited\" column in a table.\n",
    "\n",
    "# Splits the data into 80% training data and 20% testing data\n",
    "X_train, X_test, y_train, y_test = train_test_split(x, y, test_size=0.2, random_state=42)\n",
    "\n",
    "# Scale the x data\n",
    "scaler = StandardScaler() \n",
    "X_train = scaler.fit_transform(X_train)\n",
    "X_test = scaler.transform(X_test)"
   ]
  },
  {
   "cell_type": "markdown",
   "id": "dbceaad4",
   "metadata": {},
   "source": [
    "### **Build Model**"
   ]
  },
  {
   "cell_type": "code",
   "execution_count": 18,
   "id": "6ad52fc8",
   "metadata": {},
   "outputs": [
    {
     "name": "stderr",
     "output_type": "stream",
     "text": [
      "/home/jaden/projects/churn/.venv/lib/python3.12/site-packages/keras/src/layers/core/dense.py:87: UserWarning: Do not pass an `input_shape`/`input_dim` argument to a layer. When using Sequential models, prefer using an `Input(shape)` object as the first layer in the model instead.\n",
      "  super().__init__(activity_regularizer=activity_regularizer, **kwargs)\n"
     ]
    }
   ],
   "source": [
    "ANN = models.Sequential([  #Initializes the ANN\n",
    "    \n",
    "    # Input layer\n",
    "    layers.Dense(128, activation='relu', input_shape=(X_train.shape[1],)), #This input layer has 128 neurons that processes one column at a time using the activation'relu'.\n",
    "    layers.Dropout(0.4),\n",
    "\n",
    "    # Hidden layer \n",
    "    layers.Dense(units=64, activation='relu'), # Sorts through all of the probabilities using a 64 nodes.\n",
    "    layers.Dropout(0.3),\n",
    "\n",
    "    # Hidden layer \n",
    "    layers.Dense(units=32, activation='relu'), # Sorts through all of the probabilities using a 32 nodes.\n",
    "    layers.Dropout(0.2),\n",
    "\n",
    "\n",
    "    # Output layer\n",
    "    layers.Dense(1, activation='sigmoid')  # Outputs a single sigmoid value\n",
    "])"
   ]
  },
  {
   "cell_type": "markdown",
   "id": "fcd0004c",
   "metadata": {},
   "source": [
    "### **Train Model:**"
   ]
  },
  {
   "cell_type": "code",
   "execution_count": 19,
   "id": "dbcd0ce5",
   "metadata": {},
   "outputs": [
    {
     "name": "stdout",
     "output_type": "stream",
     "text": [
      "Epoch 1/40\n"
     ]
    },
    {
     "name": "stdout",
     "output_type": "stream",
     "text": [
      "\u001b[1m200/200\u001b[0m \u001b[32m━━━━━━━━━━━━━━━━━━━━\u001b[0m\u001b[37m\u001b[0m \u001b[1m1s\u001b[0m 3ms/step - accuracy: 0.6498 - loss: 0.6801 - val_accuracy: 0.6825 - val_loss: 0.5667\n",
      "Epoch 2/40\n",
      "\u001b[1m200/200\u001b[0m \u001b[32m━━━━━━━━━━━━━━━━━━━━\u001b[0m\u001b[37m\u001b[0m \u001b[1m0s\u001b[0m 2ms/step - accuracy: 0.7031 - loss: 0.5793 - val_accuracy: 0.7206 - val_loss: 0.5311\n",
      "Epoch 3/40\n",
      "\u001b[1m200/200\u001b[0m \u001b[32m━━━━━━━━━━━━━━━━━━━━\u001b[0m\u001b[37m\u001b[0m \u001b[1m0s\u001b[0m 2ms/step - accuracy: 0.7079 - loss: 0.5626 - val_accuracy: 0.7337 - val_loss: 0.5031\n",
      "Epoch 4/40\n",
      "\u001b[1m200/200\u001b[0m \u001b[32m━━━━━━━━━━━━━━━━━━━━\u001b[0m\u001b[37m\u001b[0m \u001b[1m0s\u001b[0m 2ms/step - accuracy: 0.7217 - loss: 0.5532 - val_accuracy: 0.7588 - val_loss: 0.4682\n",
      "Epoch 5/40\n",
      "\u001b[1m200/200\u001b[0m \u001b[32m━━━━━━━━━━━━━━━━━━━━\u001b[0m\u001b[37m\u001b[0m \u001b[1m0s\u001b[0m 2ms/step - accuracy: 0.7459 - loss: 0.5253 - val_accuracy: 0.7613 - val_loss: 0.4725\n",
      "Epoch 6/40\n",
      "\u001b[1m200/200\u001b[0m \u001b[32m━━━━━━━━━━━━━━━━━━━━\u001b[0m\u001b[37m\u001b[0m \u001b[1m0s\u001b[0m 2ms/step - accuracy: 0.7538 - loss: 0.5139 - val_accuracy: 0.7900 - val_loss: 0.4528\n",
      "Epoch 7/40\n",
      "\u001b[1m200/200\u001b[0m \u001b[32m━━━━━━━━━━━━━━━━━━━━\u001b[0m\u001b[37m\u001b[0m \u001b[1m0s\u001b[0m 2ms/step - accuracy: 0.7691 - loss: 0.4900 - val_accuracy: 0.7675 - val_loss: 0.4788\n",
      "Epoch 8/40\n",
      "\u001b[1m200/200\u001b[0m \u001b[32m━━━━━━━━━━━━━━━━━━━━\u001b[0m\u001b[37m\u001b[0m \u001b[1m0s\u001b[0m 2ms/step - accuracy: 0.7671 - loss: 0.4906 - val_accuracy: 0.7912 - val_loss: 0.4536\n",
      "Epoch 9/40\n",
      "\u001b[1m200/200\u001b[0m \u001b[32m━━━━━━━━━━━━━━━━━━━━\u001b[0m\u001b[37m\u001b[0m \u001b[1m0s\u001b[0m 2ms/step - accuracy: 0.7875 - loss: 0.4726 - val_accuracy: 0.8112 - val_loss: 0.4431\n",
      "Epoch 10/40\n",
      "\u001b[1m200/200\u001b[0m \u001b[32m━━━━━━━━━━━━━━━━━━━━\u001b[0m\u001b[37m\u001b[0m \u001b[1m0s\u001b[0m 2ms/step - accuracy: 0.7909 - loss: 0.4763 - val_accuracy: 0.7887 - val_loss: 0.4661\n",
      "Epoch 11/40\n",
      "\u001b[1m200/200\u001b[0m \u001b[32m━━━━━━━━━━━━━━━━━━━━\u001b[0m\u001b[37m\u001b[0m \u001b[1m0s\u001b[0m 2ms/step - accuracy: 0.7784 - loss: 0.4816 - val_accuracy: 0.8094 - val_loss: 0.4333\n",
      "Epoch 12/40\n",
      "\u001b[1m200/200\u001b[0m \u001b[32m━━━━━━━━━━━━━━━━━━━━\u001b[0m\u001b[37m\u001b[0m \u001b[1m0s\u001b[0m 2ms/step - accuracy: 0.7894 - loss: 0.4819 - val_accuracy: 0.7881 - val_loss: 0.4579\n",
      "Epoch 13/40\n",
      "\u001b[1m200/200\u001b[0m \u001b[32m━━━━━━━━━━━━━━━━━━━━\u001b[0m\u001b[37m\u001b[0m \u001b[1m0s\u001b[0m 2ms/step - accuracy: 0.7802 - loss: 0.4898 - val_accuracy: 0.7869 - val_loss: 0.4427\n",
      "Epoch 14/40\n",
      "\u001b[1m200/200\u001b[0m \u001b[32m━━━━━━━━━━━━━━━━━━━━\u001b[0m\u001b[37m\u001b[0m \u001b[1m0s\u001b[0m 2ms/step - accuracy: 0.7861 - loss: 0.4699 - val_accuracy: 0.7912 - val_loss: 0.4547\n",
      "Epoch 15/40\n",
      "\u001b[1m200/200\u001b[0m \u001b[32m━━━━━━━━━━━━━━━━━━━━\u001b[0m\u001b[37m\u001b[0m \u001b[1m0s\u001b[0m 2ms/step - accuracy: 0.7834 - loss: 0.4711 - val_accuracy: 0.7956 - val_loss: 0.4434\n",
      "Epoch 16/40\n",
      "\u001b[1m200/200\u001b[0m \u001b[32m━━━━━━━━━━━━━━━━━━━━\u001b[0m\u001b[37m\u001b[0m \u001b[1m0s\u001b[0m 2ms/step - accuracy: 0.7789 - loss: 0.4671 - val_accuracy: 0.7906 - val_loss: 0.4585\n",
      "Epoch 17/40\n",
      "\u001b[1m200/200\u001b[0m \u001b[32m━━━━━━━━━━━━━━━━━━━━\u001b[0m\u001b[37m\u001b[0m \u001b[1m0s\u001b[0m 2ms/step - accuracy: 0.7781 - loss: 0.4707 - val_accuracy: 0.7962 - val_loss: 0.4495\n",
      "Epoch 18/40\n",
      "\u001b[1m200/200\u001b[0m \u001b[32m━━━━━━━━━━━━━━━━━━━━\u001b[0m\u001b[37m\u001b[0m \u001b[1m0s\u001b[0m 2ms/step - accuracy: 0.7852 - loss: 0.4765 - val_accuracy: 0.8169 - val_loss: 0.4091\n",
      "Epoch 19/40\n",
      "\u001b[1m200/200\u001b[0m \u001b[32m━━━━━━━━━━━━━━━━━━━━\u001b[0m\u001b[37m\u001b[0m \u001b[1m0s\u001b[0m 2ms/step - accuracy: 0.8049 - loss: 0.4652 - val_accuracy: 0.7812 - val_loss: 0.4526\n",
      "Epoch 20/40\n",
      "\u001b[1m200/200\u001b[0m \u001b[32m━━━━━━━━━━━━━━━━━━━━\u001b[0m\u001b[37m\u001b[0m \u001b[1m0s\u001b[0m 2ms/step - accuracy: 0.7892 - loss: 0.4693 - val_accuracy: 0.8075 - val_loss: 0.4247\n",
      "Epoch 21/40\n",
      "\u001b[1m200/200\u001b[0m \u001b[32m━━━━━━━━━━━━━━━━━━━━\u001b[0m\u001b[37m\u001b[0m \u001b[1m0s\u001b[0m 2ms/step - accuracy: 0.7852 - loss: 0.4677 - val_accuracy: 0.8156 - val_loss: 0.4041\n",
      "Epoch 22/40\n",
      "\u001b[1m200/200\u001b[0m \u001b[32m━━━━━━━━━━━━━━━━━━━━\u001b[0m\u001b[37m\u001b[0m \u001b[1m0s\u001b[0m 2ms/step - accuracy: 0.7997 - loss: 0.4568 - val_accuracy: 0.7962 - val_loss: 0.4413\n",
      "Epoch 23/40\n",
      "\u001b[1m200/200\u001b[0m \u001b[32m━━━━━━━━━━━━━━━━━━━━\u001b[0m\u001b[37m\u001b[0m \u001b[1m0s\u001b[0m 2ms/step - accuracy: 0.8028 - loss: 0.4479 - val_accuracy: 0.8163 - val_loss: 0.4114\n",
      "Epoch 24/40\n",
      "\u001b[1m200/200\u001b[0m \u001b[32m━━━━━━━━━━━━━━━━━━━━\u001b[0m\u001b[37m\u001b[0m \u001b[1m0s\u001b[0m 2ms/step - accuracy: 0.7959 - loss: 0.4616 - val_accuracy: 0.8094 - val_loss: 0.4402\n",
      "Epoch 25/40\n",
      "\u001b[1m200/200\u001b[0m \u001b[32m━━━━━━━━━━━━━━━━━━━━\u001b[0m\u001b[37m\u001b[0m \u001b[1m0s\u001b[0m 2ms/step - accuracy: 0.8034 - loss: 0.4493 - val_accuracy: 0.8106 - val_loss: 0.4246\n",
      "Epoch 26/40\n",
      "\u001b[1m200/200\u001b[0m \u001b[32m━━━━━━━━━━━━━━━━━━━━\u001b[0m\u001b[37m\u001b[0m \u001b[1m0s\u001b[0m 2ms/step - accuracy: 0.8036 - loss: 0.4411 - val_accuracy: 0.8019 - val_loss: 0.4222\n",
      "Epoch 27/40\n",
      "\u001b[1m200/200\u001b[0m \u001b[32m━━━━━━━━━━━━━━━━━━━━\u001b[0m\u001b[37m\u001b[0m \u001b[1m0s\u001b[0m 2ms/step - accuracy: 0.8016 - loss: 0.4467 - val_accuracy: 0.8037 - val_loss: 0.4386\n",
      "Epoch 28/40\n",
      "\u001b[1m200/200\u001b[0m \u001b[32m━━━━━━━━━━━━━━━━━━━━\u001b[0m\u001b[37m\u001b[0m \u001b[1m0s\u001b[0m 2ms/step - accuracy: 0.7982 - loss: 0.4523 - val_accuracy: 0.8031 - val_loss: 0.4208\n",
      "Epoch 29/40\n",
      "\u001b[1m200/200\u001b[0m \u001b[32m━━━━━━━━━━━━━━━━━━━━\u001b[0m\u001b[37m\u001b[0m \u001b[1m0s\u001b[0m 2ms/step - accuracy: 0.8050 - loss: 0.4470 - val_accuracy: 0.8069 - val_loss: 0.4134\n",
      "Epoch 30/40\n",
      "\u001b[1m200/200\u001b[0m \u001b[32m━━━━━━━━━━━━━━━━━━━━\u001b[0m\u001b[37m\u001b[0m \u001b[1m0s\u001b[0m 2ms/step - accuracy: 0.7954 - loss: 0.4462 - val_accuracy: 0.8012 - val_loss: 0.4240\n",
      "Epoch 31/40\n",
      "\u001b[1m200/200\u001b[0m \u001b[32m━━━━━━━━━━━━━━━━━━━━\u001b[0m\u001b[37m\u001b[0m \u001b[1m0s\u001b[0m 2ms/step - accuracy: 0.7984 - loss: 0.4541 - val_accuracy: 0.8156 - val_loss: 0.4192\n",
      "Epoch 32/40\n",
      "\u001b[1m200/200\u001b[0m \u001b[32m━━━━━━━━━━━━━━━━━━━━\u001b[0m\u001b[37m\u001b[0m \u001b[1m0s\u001b[0m 2ms/step - accuracy: 0.7975 - loss: 0.4474 - val_accuracy: 0.8138 - val_loss: 0.4088\n",
      "Epoch 33/40\n",
      "\u001b[1m200/200\u001b[0m \u001b[32m━━━━━━━━━━━━━━━━━━━━\u001b[0m\u001b[37m\u001b[0m \u001b[1m0s\u001b[0m 2ms/step - accuracy: 0.8074 - loss: 0.4383 - val_accuracy: 0.8006 - val_loss: 0.4370\n",
      "Epoch 34/40\n",
      "\u001b[1m200/200\u001b[0m \u001b[32m━━━━━━━━━━━━━━━━━━━━\u001b[0m\u001b[37m\u001b[0m \u001b[1m0s\u001b[0m 2ms/step - accuracy: 0.8084 - loss: 0.4319 - val_accuracy: 0.7937 - val_loss: 0.4353\n",
      "Epoch 35/40\n",
      "\u001b[1m200/200\u001b[0m \u001b[32m━━━━━━━━━━━━━━━━━━━━\u001b[0m\u001b[37m\u001b[0m \u001b[1m0s\u001b[0m 2ms/step - accuracy: 0.7994 - loss: 0.4411 - val_accuracy: 0.8025 - val_loss: 0.4268\n",
      "Epoch 36/40\n",
      "\u001b[1m200/200\u001b[0m \u001b[32m━━━━━━━━━━━━━━━━━━━━\u001b[0m\u001b[37m\u001b[0m \u001b[1m0s\u001b[0m 2ms/step - accuracy: 0.8070 - loss: 0.4438 - val_accuracy: 0.8031 - val_loss: 0.4267\n",
      "Epoch 37/40\n",
      "\u001b[1m200/200\u001b[0m \u001b[32m━━━━━━━━━━━━━━━━━━━━\u001b[0m\u001b[37m\u001b[0m \u001b[1m0s\u001b[0m 2ms/step - accuracy: 0.8041 - loss: 0.4460 - val_accuracy: 0.7950 - val_loss: 0.4390\n",
      "Epoch 38/40\n",
      "\u001b[1m200/200\u001b[0m \u001b[32m━━━━━━━━━━━━━━━━━━━━\u001b[0m\u001b[37m\u001b[0m \u001b[1m0s\u001b[0m 2ms/step - accuracy: 0.7993 - loss: 0.4381 - val_accuracy: 0.8019 - val_loss: 0.4219\n",
      "Epoch 39/40\n",
      "\u001b[1m200/200\u001b[0m \u001b[32m━━━━━━━━━━━━━━━━━━━━\u001b[0m\u001b[37m\u001b[0m \u001b[1m0s\u001b[0m 2ms/step - accuracy: 0.8103 - loss: 0.4273 - val_accuracy: 0.8037 - val_loss: 0.4179\n",
      "Epoch 40/40\n",
      "\u001b[1m200/200\u001b[0m \u001b[32m━━━━━━━━━━━━━━━━━━━━\u001b[0m\u001b[37m\u001b[0m \u001b[1m0s\u001b[0m 2ms/step - accuracy: 0.8049 - loss: 0.4287 - val_accuracy: 0.7912 - val_loss: 0.4488\n"
     ]
    }
   ],
   "source": [
    "# Compile ANN\n",
    "ANN.compile(optimizer='adam', loss='binary_crossentropy', metrics=['accuracy'])\n",
    "\n",
    "# Compute class weights and fixes any imbalance in the data\n",
    "class_weights = compute_class_weight(class_weight='balanced',classes=np.unique(y_train),y=y_train) # creates a more balanced decision boundery by taking the minorty class into consideration.\n",
    "class_weight_dict = dict(enumerate(class_weights))\n",
    "\n",
    "# Fitting the training data into the ANN\n",
    "history=ANN.fit(X_train, y_train, epochs=40, batch_size=32,validation_split=0.2, class_weight=class_weight_dict)"
   ]
  },
  {
   "cell_type": "markdown",
   "id": "6a09fd38",
   "metadata": {},
   "source": [
    "### **Model Evaluation:**"
   ]
  },
  {
   "cell_type": "code",
   "execution_count": 20,
   "id": "717d2431",
   "metadata": {},
   "outputs": [
    {
     "name": "stdout",
     "output_type": "stream",
     "text": [
      "\u001b[1m63/63\u001b[0m \u001b[32m━━━━━━━━━━━━━━━━━━━━\u001b[0m\u001b[37m\u001b[0m \u001b[1m0s\u001b[0m 1ms/step - accuracy: 0.7865 - loss: 0.4619\n",
      "loss = 0.4689\n",
      "Accuracy = 0.7810\n"
     ]
    }
   ],
   "source": [
    "loss,accuracy = ANN.evaluate(X_test,y_test)\n",
    "print(f'loss = {loss:.4f}')\n",
    "print(f'Accuracy = {accuracy:.4f}')\n"
   ]
  },
  {
   "cell_type": "code",
   "execution_count": 21,
   "id": "5511773f",
   "metadata": {},
   "outputs": [
    {
     "data": {
      "image/png": "[encoded data removed]",
      "text/plain": [
       "<Figure size 640x480 with 1 Axes>"
      ]
     },
     "metadata": {},
     "output_type": "display_data"
    }
   ],
   "source": [
    "plt.plot(history.history['accuracy'], label='train accuracy')\n",
    "plt.plot(history.history['val_accuracy'], label='val accuracy')\n",
    "plt.title('Model Accuracy')\n",
    "plt.xlabel('Epochs')\n",
    "plt.ylabel('Accuracy')\n",
    "plt.legend()\n",
    "plt.show()"
   ]
  },
  {
   "cell_type": "code",
   "execution_count": 22,
   "id": "98145aea",
   "metadata": {},
   "outputs": [
    {
     "name": "stdout",
     "output_type": "stream",
     "text": [
      "\u001b[1m63/63\u001b[0m \u001b[32m━━━━━━━━━━━━━━━━━━━━\u001b[0m\u001b[37m\u001b[0m \u001b[1m0s\u001b[0m 1ms/step\n",
      "Classification Report:\n",
      "              precision    recall  f1-score   support\n",
      "\n",
      "           0       0.93      0.79      0.85      1627\n",
      "           1       0.45      0.74      0.56       373\n",
      "\n",
      "    accuracy                           0.78      2000\n",
      "   macro avg       0.69      0.76      0.71      2000\n",
      "weighted avg       0.84      0.78      0.80      2000\n",
      "\n"
     ]
    }
   ],
   "source": [
    "ypredrun = ANN.predict(X_test)\n",
    "ypredresults = (ypredrun>0.5).astype(int)\n",
    "\n",
    "print(\"Classification Report:\")\n",
    "print(classification_report(y_test, ypredresults))"
   ]
  },
  {
   "cell_type": "code",
   "execution_count": 23,
   "id": "3a8dad39",
   "metadata": {},
   "outputs": [
    {
     "data": {
      "image/png": "[encoded data removed]",
      "text/plain": [
       "<Figure size 600x400 with 2 Axes>"
      ]
     },
     "metadata": {},
     "output_type": "display_data"
    }
   ],
   "source": [
    "cm = confusion_matrix(y_test, ypredresults)\n",
    "cm_normalized = cm.astype(\"float\") / cm.sum(axis=1)[:, np.newaxis]\n",
    "plt.figure(figsize=(6, 4))\n",
    "sns.heatmap(cm_normalized, annot=True, fmt='.2f', cmap='Blues', xticklabels=['Stayed', 'Exited'], yticklabels=['Stayed', 'Exited'])\n",
    "plt.xlabel('Predicted')\n",
    "plt.ylabel('Actual')\n",
    "plt.title('Confusion Matrix')\n",
    "plt.show()"
   ]
  },
  {
   "cell_type": "markdown",
   "id": "401b4511",
   "metadata": {},
   "source": [
    "# Dump model to load on dash app"
   ]
  },
  {
   "cell_type": "code",
   "execution_count": 24,
   "id": "c1b26e69",
   "metadata": {},
   "outputs": [],
   "source": [
    "ANN.save(\"ann.keras\")\n",
    "dump(scaler, open(\"scaler.pkl\", \"wb\"))"
   ]
  }
 ],
 "metadata": {
  "kernelspec": {
   "display_name": ".venv",
   "language": "python",
   "name": "python3"
  },
  "language_info": {
   "codemirror_mode": {
    "name": "ipython",
    "version": 3
   },
   "file_extension": ".py",
   "mimetype": "text/x-python",
   "name": "python",
   "nbconvert_exporter": "python",
   "pygments_lexer": "ipython3",
   "version": "3.12.9"
  }
 },
 "nbformat": 4,
 "nbformat_minor": 5
}
